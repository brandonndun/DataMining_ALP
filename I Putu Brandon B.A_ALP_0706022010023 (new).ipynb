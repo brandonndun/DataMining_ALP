{
 "cells": [
  {
   "cell_type": "markdown",
   "id": "c8406745",
   "metadata": {},
   "source": [
    "# Load Libraries Data"
   ]
  },
  {
   "cell_type": "code",
   "execution_count": 264,
   "id": "7dfc296f",
   "metadata": {},
   "outputs": [],
   "source": [
    "import math\n",
    "import numpy as np\n",
    "import pandas as pd\n",
    "from matplotlib import pyplot as plt\n",
    "from imblearn.over_sampling import SMOTE\n",
    "from sklearn.preprocessing import MinMaxScaler\n",
    "from sklearn.linear_model import LinearRegression\n",
    "from sklearn.neighbors import KNeighborsClassifier\n",
    "from sklearn.cluster import AgglomerativeClustering\n",
    "from sklearn.model_selection import train_test_split\n",
    "from imblearn.under_sampling import RandomUnderSampler\n",
    "from scipy.cluster.hierarchy import dendrogram, linkage"
   ]
  },
  {
   "cell_type": "code",
   "execution_count": 265,
   "id": "4274d56e",
   "metadata": {},
   "outputs": [
    {
     "data": {
      "text/html": [
       "<div>\n",
       "<style scoped>\n",
       "    .dataframe tbody tr th:only-of-type {\n",
       "        vertical-align: middle;\n",
       "    }\n",
       "\n",
       "    .dataframe tbody tr th {\n",
       "        vertical-align: top;\n",
       "    }\n",
       "\n",
       "    .dataframe thead th {\n",
       "        text-align: right;\n",
       "    }\n",
       "</style>\n",
       "<table border=\"1\" class=\"dataframe\">\n",
       "  <thead>\n",
       "    <tr style=\"text-align: right;\">\n",
       "      <th></th>\n",
       "      <th>gender</th>\n",
       "      <th>age</th>\n",
       "      <th>Time</th>\n",
       "      <th>Number_of_Warts</th>\n",
       "      <th>Type</th>\n",
       "      <th>Area</th>\n",
       "      <th>induration_diameter</th>\n",
       "      <th>Result_of_Treatment</th>\n",
       "    </tr>\n",
       "  </thead>\n",
       "  <tbody>\n",
       "    <tr>\n",
       "      <th>0</th>\n",
       "      <td>1</td>\n",
       "      <td>15</td>\n",
       "      <td>11.00</td>\n",
       "      <td>6.0</td>\n",
       "      <td>1.0</td>\n",
       "      <td>30</td>\n",
       "      <td>25.0</td>\n",
       "      <td>0</td>\n",
       "    </tr>\n",
       "    <tr>\n",
       "      <th>1</th>\n",
       "      <td>1</td>\n",
       "      <td>27</td>\n",
       "      <td>11.75</td>\n",
       "      <td>NaN</td>\n",
       "      <td>1.0</td>\n",
       "      <td>208</td>\n",
       "      <td>6.0</td>\n",
       "      <td>0</td>\n",
       "    </tr>\n",
       "    <tr>\n",
       "      <th>2</th>\n",
       "      <td>1</td>\n",
       "      <td>32</td>\n",
       "      <td>12.00</td>\n",
       "      <td>9.0</td>\n",
       "      <td>1.0</td>\n",
       "      <td>43</td>\n",
       "      <td>50.0</td>\n",
       "      <td>0</td>\n",
       "    </tr>\n",
       "    <tr>\n",
       "      <th>3</th>\n",
       "      <td>1</td>\n",
       "      <td>33</td>\n",
       "      <td>1.75</td>\n",
       "      <td>7.0</td>\n",
       "      <td>2.0</td>\n",
       "      <td>379</td>\n",
       "      <td>7.0</td>\n",
       "      <td>0</td>\n",
       "    </tr>\n",
       "    <tr>\n",
       "      <th>4</th>\n",
       "      <td>1</td>\n",
       "      <td>34</td>\n",
       "      <td>5.00</td>\n",
       "      <td>7.0</td>\n",
       "      <td>3.0</td>\n",
       "      <td>64</td>\n",
       "      <td>7.0</td>\n",
       "      <td>0</td>\n",
       "    </tr>\n",
       "    <tr>\n",
       "      <th>...</th>\n",
       "      <td>...</td>\n",
       "      <td>...</td>\n",
       "      <td>...</td>\n",
       "      <td>...</td>\n",
       "      <td>...</td>\n",
       "      <td>...</td>\n",
       "      <td>...</td>\n",
       "      <td>...</td>\n",
       "    </tr>\n",
       "    <tr>\n",
       "      <th>85</th>\n",
       "      <td>2</td>\n",
       "      <td>51</td>\n",
       "      <td>4.00</td>\n",
       "      <td>1.0</td>\n",
       "      <td>1.0</td>\n",
       "      <td>65</td>\n",
       "      <td>7.0</td>\n",
       "      <td>1</td>\n",
       "    </tr>\n",
       "    <tr>\n",
       "      <th>86</th>\n",
       "      <td>2</td>\n",
       "      <td>51</td>\n",
       "      <td>6.00</td>\n",
       "      <td>6.0</td>\n",
       "      <td>NaN</td>\n",
       "      <td>80</td>\n",
       "      <td>2.0</td>\n",
       "      <td>1</td>\n",
       "    </tr>\n",
       "    <tr>\n",
       "      <th>87</th>\n",
       "      <td>2</td>\n",
       "      <td>52</td>\n",
       "      <td>2.25</td>\n",
       "      <td>5.0</td>\n",
       "      <td>1.0</td>\n",
       "      <td>63</td>\n",
       "      <td>7.0</td>\n",
       "      <td>1</td>\n",
       "    </tr>\n",
       "    <tr>\n",
       "      <th>88</th>\n",
       "      <td>2</td>\n",
       "      <td>53</td>\n",
       "      <td>10.00</td>\n",
       "      <td>1.0</td>\n",
       "      <td>2.0</td>\n",
       "      <td>30</td>\n",
       "      <td>25.0</td>\n",
       "      <td>1</td>\n",
       "    </tr>\n",
       "    <tr>\n",
       "      <th>89</th>\n",
       "      <td>2</td>\n",
       "      <td>53</td>\n",
       "      <td>7.25</td>\n",
       "      <td>6.0</td>\n",
       "      <td>NaN</td>\n",
       "      <td>81</td>\n",
       "      <td>7.0</td>\n",
       "      <td>1</td>\n",
       "    </tr>\n",
       "  </tbody>\n",
       "</table>\n",
       "<p>90 rows × 8 columns</p>\n",
       "</div>"
      ],
      "text/plain": [
       "    gender  age   Time  Number_of_Warts  Type  Area  induration_diameter  \\\n",
       "0        1   15  11.00              6.0   1.0    30                 25.0   \n",
       "1        1   27  11.75              NaN   1.0   208                  6.0   \n",
       "2        1   32  12.00              9.0   1.0    43                 50.0   \n",
       "3        1   33   1.75              7.0   2.0   379                  7.0   \n",
       "4        1   34   5.00              7.0   3.0    64                  7.0   \n",
       "..     ...  ...    ...              ...   ...   ...                  ...   \n",
       "85       2   51   4.00              1.0   1.0    65                  7.0   \n",
       "86       2   51   6.00              6.0   NaN    80                  2.0   \n",
       "87       2   52   2.25              5.0   1.0    63                  7.0   \n",
       "88       2   53  10.00              1.0   2.0    30                 25.0   \n",
       "89       2   53   7.25              6.0   NaN    81                  7.0   \n",
       "\n",
       "    Result_of_Treatment  \n",
       "0                     0  \n",
       "1                     0  \n",
       "2                     0  \n",
       "3                     0  \n",
       "4                     0  \n",
       "..                  ...  \n",
       "85                    1  \n",
       "86                    1  \n",
       "87                    1  \n",
       "88                    1  \n",
       "89                    1  \n",
       "\n",
       "[90 rows x 8 columns]"
      ]
     },
     "execution_count": 265,
     "metadata": {},
     "output_type": "execute_result"
    }
   ],
   "source": [
    "dataset = pd.read_csv(\"https://raw.githubusercontent.com/brandonndun/DataMining_ALP/main/Dataset_Terapi_Kelenjar_Getah_Bening.csv\")\n",
    "dataset"
   ]
  },
  {
   "cell_type": "markdown",
   "id": "ebf6f163",
   "metadata": {},
   "source": [
    "# EDA"
   ]
  },
  {
   "cell_type": "markdown",
   "id": "f079ab21",
   "metadata": {},
   "source": [
    "`dataset.info()` ***Mencari tau informasi dasar mengenai data yang akan dipergunakan***"
   ]
  },
  {
   "cell_type": "code",
   "execution_count": 266,
   "id": "e1e9bbd0",
   "metadata": {},
   "outputs": [
    {
     "name": "stdout",
     "output_type": "stream",
     "text": [
      "<class 'pandas.core.frame.DataFrame'>\n",
      "RangeIndex: 90 entries, 0 to 89\n",
      "Data columns (total 8 columns):\n",
      " #   Column               Non-Null Count  Dtype  \n",
      "---  ------               --------------  -----  \n",
      " 0   gender               90 non-null     int64  \n",
      " 1   age                  90 non-null     int64  \n",
      " 2   Time                 87 non-null     float64\n",
      " 3   Number_of_Warts      89 non-null     float64\n",
      " 4   Type                 85 non-null     float64\n",
      " 5   Area                 90 non-null     int64  \n",
      " 6   induration_diameter  88 non-null     float64\n",
      " 7   Result_of_Treatment  90 non-null     int64  \n",
      "dtypes: float64(4), int64(4)\n",
      "memory usage: 5.8 KB\n"
     ]
    }
   ],
   "source": [
    "dataset.info()"
   ]
  },
  {
   "cell_type": "markdown",
   "id": "110540e4",
   "metadata": {},
   "source": [
    "`dataset.duplicated().sum()` ***Proses check data apakah ada yang duplikat atau tidak***"
   ]
  },
  {
   "cell_type": "code",
   "execution_count": 267,
   "id": "5a1566a2",
   "metadata": {},
   "outputs": [
    {
     "data": {
      "text/plain": [
       "0"
      ]
     },
     "execution_count": 267,
     "metadata": {},
     "output_type": "execute_result"
    }
   ],
   "source": [
    "dataset.duplicated().sum()"
   ]
  },
  {
   "cell_type": "markdown",
   "id": "198e49c4",
   "metadata": {},
   "source": [
    "`dataset.isnull().sum()` ***Proses check data apakah terdapat Missing Value atau tidak***"
   ]
  },
  {
   "cell_type": "code",
   "execution_count": 268,
   "id": "597a8869",
   "metadata": {},
   "outputs": [
    {
     "data": {
      "text/plain": [
       "gender                 0\n",
       "age                    0\n",
       "Time                   3\n",
       "Number_of_Warts        1\n",
       "Type                   5\n",
       "Area                   0\n",
       "induration_diameter    2\n",
       "Result_of_Treatment    0\n",
       "dtype: int64"
      ]
     },
     "execution_count": 268,
     "metadata": {},
     "output_type": "execute_result"
    }
   ],
   "source": [
    "dataset.isnull().sum()"
   ]
  },
  {
   "cell_type": "markdown",
   "id": "6eb45dbc",
   "metadata": {},
   "source": [
    "`dataset.dtypes` ***Proses check tipe data yang digunakan***"
   ]
  },
  {
   "cell_type": "code",
   "execution_count": 269,
   "id": "fb01e236",
   "metadata": {},
   "outputs": [
    {
     "data": {
      "text/plain": [
       "gender                   int64\n",
       "age                      int64\n",
       "Time                   float64\n",
       "Number_of_Warts        float64\n",
       "Type                   float64\n",
       "Area                     int64\n",
       "induration_diameter    float64\n",
       "Result_of_Treatment      int64\n",
       "dtype: object"
      ]
     },
     "execution_count": 269,
     "metadata": {},
     "output_type": "execute_result"
    }
   ],
   "source": [
    "dataset.dtypes"
   ]
  },
  {
   "cell_type": "markdown",
   "id": "a58cdf5a",
   "metadata": {},
   "source": [
    "# Preperation Data"
   ]
  },
  {
   "cell_type": "markdown",
   "id": "e7b40a9e",
   "metadata": {},
   "source": [
    "**RENAME COLUMNS**\n",
    "\n",
    "***Sebagai mempermudah pengerjaan, disini ada sedikit perubahan nama kolom yaitu :***\n",
    "1. gender -> Gender\n",
    "2. age -> Age\n",
    "3. induration_diameter -> Induration_Diameter"
   ]
  },
  {
   "cell_type": "code",
   "execution_count": 270,
   "id": "68e094ca",
   "metadata": {},
   "outputs": [
    {
     "data": {
      "text/html": [
       "<div>\n",
       "<style scoped>\n",
       "    .dataframe tbody tr th:only-of-type {\n",
       "        vertical-align: middle;\n",
       "    }\n",
       "\n",
       "    .dataframe tbody tr th {\n",
       "        vertical-align: top;\n",
       "    }\n",
       "\n",
       "    .dataframe thead th {\n",
       "        text-align: right;\n",
       "    }\n",
       "</style>\n",
       "<table border=\"1\" class=\"dataframe\">\n",
       "  <thead>\n",
       "    <tr style=\"text-align: right;\">\n",
       "      <th></th>\n",
       "      <th>Gender</th>\n",
       "      <th>Age</th>\n",
       "      <th>Time</th>\n",
       "      <th>Number_of_Warts</th>\n",
       "      <th>Type</th>\n",
       "      <th>Area</th>\n",
       "      <th>Induration_Diameter</th>\n",
       "      <th>Result_of_Treatment</th>\n",
       "    </tr>\n",
       "  </thead>\n",
       "  <tbody>\n",
       "    <tr>\n",
       "      <th>0</th>\n",
       "      <td>1</td>\n",
       "      <td>15</td>\n",
       "      <td>11.00</td>\n",
       "      <td>6.0</td>\n",
       "      <td>1.0</td>\n",
       "      <td>30</td>\n",
       "      <td>25.0</td>\n",
       "      <td>0</td>\n",
       "    </tr>\n",
       "    <tr>\n",
       "      <th>1</th>\n",
       "      <td>1</td>\n",
       "      <td>27</td>\n",
       "      <td>11.75</td>\n",
       "      <td>NaN</td>\n",
       "      <td>1.0</td>\n",
       "      <td>208</td>\n",
       "      <td>6.0</td>\n",
       "      <td>0</td>\n",
       "    </tr>\n",
       "    <tr>\n",
       "      <th>2</th>\n",
       "      <td>1</td>\n",
       "      <td>32</td>\n",
       "      <td>12.00</td>\n",
       "      <td>9.0</td>\n",
       "      <td>1.0</td>\n",
       "      <td>43</td>\n",
       "      <td>50.0</td>\n",
       "      <td>0</td>\n",
       "    </tr>\n",
       "    <tr>\n",
       "      <th>3</th>\n",
       "      <td>1</td>\n",
       "      <td>33</td>\n",
       "      <td>1.75</td>\n",
       "      <td>7.0</td>\n",
       "      <td>2.0</td>\n",
       "      <td>379</td>\n",
       "      <td>7.0</td>\n",
       "      <td>0</td>\n",
       "    </tr>\n",
       "    <tr>\n",
       "      <th>4</th>\n",
       "      <td>1</td>\n",
       "      <td>34</td>\n",
       "      <td>5.00</td>\n",
       "      <td>7.0</td>\n",
       "      <td>3.0</td>\n",
       "      <td>64</td>\n",
       "      <td>7.0</td>\n",
       "      <td>0</td>\n",
       "    </tr>\n",
       "  </tbody>\n",
       "</table>\n",
       "</div>"
      ],
      "text/plain": [
       "   Gender  Age   Time  Number_of_Warts  Type  Area  Induration_Diameter  \\\n",
       "0       1   15  11.00              6.0   1.0    30                 25.0   \n",
       "1       1   27  11.75              NaN   1.0   208                  6.0   \n",
       "2       1   32  12.00              9.0   1.0    43                 50.0   \n",
       "3       1   33   1.75              7.0   2.0   379                  7.0   \n",
       "4       1   34   5.00              7.0   3.0    64                  7.0   \n",
       "\n",
       "   Result_of_Treatment  \n",
       "0                    0  \n",
       "1                    0  \n",
       "2                    0  \n",
       "3                    0  \n",
       "4                    0  "
      ]
     },
     "execution_count": 270,
     "metadata": {},
     "output_type": "execute_result"
    }
   ],
   "source": [
    "dataset = dataset.rename(columns={'gender': 'Gender', 'age': 'Age','induration_diameter' : 'Induration_Diameter'})\n",
    "dataset.head()"
   ]
  },
  {
   "cell_type": "markdown",
   "id": "b71b7ae1",
   "metadata": {},
   "source": [
    "# Fill Missing Value `Time` and `Induration Diameter` with Fillna() -> Mean\n",
    "\n",
    "*Metode Fillna () dengan menggunakan MEAN disini berfungsi sebagai pengganti nilai `Missing Value` dengan nilai yang sudah di rata-rata di kolom deret, sehingga menghasilkan nilai rata rata yang telah dihitung dari nilai kolom deret itu sendiri.*"
   ]
  },
  {
   "cell_type": "code",
   "execution_count": 271,
   "id": "0eff7eeb",
   "metadata": {},
   "outputs": [],
   "source": [
    "dataset[\"Time\"].fillna(math.floor(dataset[\"Time\"].mean()), inplace=True)\n",
    "dataset[\"Induration_Diameter\"].fillna(math.floor(dataset[\"Induration_Diameter\"].mean()), inplace=True)"
   ]
  },
  {
   "cell_type": "markdown",
   "id": "f4302709",
   "metadata": {},
   "source": [
    "# Fill Missing Value `Number_of_Warts`  With Linear Regression\n",
    "\n",
    "*Untuk mengisi missing values dari `Number_of_Warts` dapat menggunakan metode Linear Regresi dikarenakan bertipe data `Angka` , untuk library yang digunakan yaitu `LinearRegression` dari `sklearn` untuk melakukan regresinya.*"
   ]
  },
  {
   "cell_type": "code",
   "execution_count": 272,
   "id": "8a7b541a",
   "metadata": {},
   "outputs": [
    {
     "name": "stderr",
     "output_type": "stream",
     "text": [
      "C:\\Users\\I Putu Brandon Bagus\\anaconda3\\lib\\site-packages\\pandas\\core\\frame.py:4906: SettingWithCopyWarning: \n",
      "A value is trying to be set on a copy of a slice from a DataFrame\n",
      "\n",
      "See the caveats in the documentation: https://pandas.pydata.org/pandas-docs/stable/user_guide/indexing.html#returning-a-view-versus-a-copy\n",
      "  return super().drop(\n",
      "C:\\Users\\IPUTUB~1\\AppData\\Local\\Temp/ipykernel_6560/897035900.py:15: SettingWithCopyWarning: \n",
      "A value is trying to be set on a copy of a slice from a DataFrame.\n",
      "Try using .loc[row_indexer,col_indexer] = value instead\n",
      "\n",
      "See the caveats in the documentation: https://pandas.pydata.org/pandas-docs/stable/user_guide/indexing.html#returning-a-view-versus-a-copy\n",
      "  test_dataset['Number_of_Warts'] = pred\n",
      "C:\\Users\\IPUTUB~1\\AppData\\Local\\Temp/ipykernel_6560/897035900.py:16: SettingWithCopyWarning: \n",
      "A value is trying to be set on a copy of a slice from a DataFrame.\n",
      "Try using .loc[row_indexer,col_indexer] = value instead\n",
      "\n",
      "See the caveats in the documentation: https://pandas.pydata.org/pandas-docs/stable/user_guide/indexing.html#returning-a-view-versus-a-copy\n",
      "  train_dataset['Number_of_Warts'] = y\n"
     ]
    }
   ],
   "source": [
    "lr = LinearRegression()\n",
    "\n",
    "test_dataset = dataset[dataset['Number_of_Warts'].isnull()==True]\n",
    "train_dataset = dataset[dataset['Number_of_Warts'].isnull()==False]\n",
    "\n",
    "y = train_dataset['Number_of_Warts']\n",
    "train_dataset.drop(\"Number_of_Warts\",axis=1,inplace=True)\n",
    "train_dataset.drop(\"Type\",axis=1,inplace=True)\n",
    "test_dataset.drop(\"Number_of_Warts\",axis=1,inplace=True)\n",
    "test_dataset.drop(\"Type\",axis=1,inplace=True)\n",
    "\n",
    "lr.fit(train_dataset,y)\n",
    "pred = lr.predict(test_dataset)\n",
    "\n",
    "test_dataset['Number_of_Warts'] = pred\n",
    "train_dataset['Number_of_Warts'] = y\n",
    "\n",
    "dataset_new = test_dataset.append(train_dataset)\n",
    "dataset_new[\"Type\"] = dataset[\"Type\"]\n"
   ]
  },
  {
   "cell_type": "markdown",
   "id": "cd182016",
   "metadata": {},
   "source": [
    "# Fill Missing Value `Type`  With KNeighborsClassifier\n",
    "\n",
    "*Untuk mengisi missing values dari `Type` dapat menggunakan metode KNeighborsClassifier dikarenakan data tersebut bertipe `Kategorikal`, untuk library yang digunakan yaitu `KNeighborsClassfier` dari `sklearn` untuk melakukan regresinya.*\n"
   ]
  },
  {
   "cell_type": "code",
   "execution_count": 273,
   "id": "18baf877",
   "metadata": {},
   "outputs": [
    {
     "name": "stderr",
     "output_type": "stream",
     "text": [
      "C:\\Users\\I Putu Brandon Bagus\\anaconda3\\lib\\site-packages\\pandas\\core\\frame.py:4906: SettingWithCopyWarning: \n",
      "A value is trying to be set on a copy of a slice from a DataFrame\n",
      "\n",
      "See the caveats in the documentation: https://pandas.pydata.org/pandas-docs/stable/user_guide/indexing.html#returning-a-view-versus-a-copy\n",
      "  return super().drop(\n",
      "C:\\Users\\IPUTUB~1\\AppData\\Local\\Temp/ipykernel_6560/148780488.py:13: SettingWithCopyWarning: \n",
      "A value is trying to be set on a copy of a slice from a DataFrame.\n",
      "Try using .loc[row_indexer,col_indexer] = value instead\n",
      "\n",
      "See the caveats in the documentation: https://pandas.pydata.org/pandas-docs/stable/user_guide/indexing.html#returning-a-view-versus-a-copy\n",
      "  test_dataset['Type'] = pred\n",
      "C:\\Users\\IPUTUB~1\\AppData\\Local\\Temp/ipykernel_6560/148780488.py:14: SettingWithCopyWarning: \n",
      "A value is trying to be set on a copy of a slice from a DataFrame.\n",
      "Try using .loc[row_indexer,col_indexer] = value instead\n",
      "\n",
      "See the caveats in the documentation: https://pandas.pydata.org/pandas-docs/stable/user_guide/indexing.html#returning-a-view-versus-a-copy\n",
      "  train_dataset['Type'] = y\n"
     ]
    }
   ],
   "source": [
    "knn = KNeighborsClassifier(n_neighbors = 5, metric = \"euclidean\")\n",
    "\n",
    "test_dataset = dataset_new[dataset_new['Type'].isnull()==True]\n",
    "train_dataset = dataset_new[dataset_new['Type'].isnull()==False]\n",
    "\n",
    "y = train_dataset['Type']\n",
    "train_dataset.drop(\"Type\",axis=1,inplace=True)\n",
    "test_dataset.drop(\"Type\",axis=1,inplace=True)\n",
    "\n",
    "knn.fit(train_dataset,y)\n",
    "pred = knn.predict(test_dataset)\n",
    "\n",
    "test_dataset['Type'] = pred\n",
    "train_dataset['Type'] = y\n",
    "\n",
    "dataset_new1 = test_dataset.append(train_dataset)"
   ]
  },
  {
   "cell_type": "markdown",
   "id": "c1b73b57",
   "metadata": {},
   "source": [
    "# Checking Missing Value\n",
    "\n",
    "*Terlihat bahwa tidak ada lagi Missing Value di kolom dataset disini. Kita bisa langsung menuju normalisasi untuk meng-handle imbalance data yang ada disini*"
   ]
  },
  {
   "cell_type": "code",
   "execution_count": 274,
   "id": "b12f3bff",
   "metadata": {},
   "outputs": [
    {
     "name": "stdout",
     "output_type": "stream",
     "text": [
      "<class 'pandas.core.frame.DataFrame'>\n",
      "Int64Index: 90 entries, 10 to 88\n",
      "Data columns (total 8 columns):\n",
      " #   Column               Non-Null Count  Dtype  \n",
      "---  ------               --------------  -----  \n",
      " 0   Gender               90 non-null     int64  \n",
      " 1   Age                  90 non-null     int64  \n",
      " 2   Time                 90 non-null     float64\n",
      " 3   Area                 90 non-null     int64  \n",
      " 4   Induration_Diameter  90 non-null     float64\n",
      " 5   Result_of_Treatment  90 non-null     int64  \n",
      " 6   Number_of_Warts      90 non-null     float64\n",
      " 7   Type                 90 non-null     float64\n",
      "dtypes: float64(4), int64(4)\n",
      "memory usage: 6.3 KB\n"
     ]
    }
   ],
   "source": [
    "dataset_new1.info()"
   ]
  },
  {
   "cell_type": "code",
   "execution_count": 275,
   "id": "3ec7a307",
   "metadata": {},
   "outputs": [
    {
     "data": {
      "text/plain": [
       "Gender                 0\n",
       "Age                    0\n",
       "Time                   0\n",
       "Area                   0\n",
       "Induration_Diameter    0\n",
       "Result_of_Treatment    0\n",
       "Number_of_Warts        0\n",
       "Type                   0\n",
       "dtype: int64"
      ]
     },
     "execution_count": 275,
     "metadata": {},
     "output_type": "execute_result"
    }
   ],
   "source": [
    "dataset_new1.isnull().sum()"
   ]
  },
  {
   "cell_type": "markdown",
   "id": "37592b36",
   "metadata": {},
   "source": [
    "# Proses Balanced Data"
   ]
  },
  {
   "cell_type": "markdown",
   "id": "63973606",
   "metadata": {},
   "source": [
    "`dataset['Result_of_Treatment'].value_counts()` ***Proses check Imbalance Data***"
   ]
  },
  {
   "cell_type": "code",
   "execution_count": 276,
   "id": "21fdf53d",
   "metadata": {},
   "outputs": [
    {
     "data": {
      "text/plain": [
       "1    71\n",
       "0    19\n",
       "Name: Result_of_Treatment, dtype: int64"
      ]
     },
     "execution_count": 276,
     "metadata": {},
     "output_type": "execute_result"
    }
   ],
   "source": [
    "dataset_new1['Result_of_Treatment'].value_counts()"
   ]
  },
  {
   "cell_type": "markdown",
   "id": "f13817ea",
   "metadata": {},
   "source": [
    "*Dari hasil diatas, dapat disimpulkan bahwa data mempunyai selisih yang cukup jauh, apabila tidak diseimbangkan dapat terjadi data yang bias, dan hal tersebut akan berpengaruh buruk untuk analisis data.Untuk mengatasi data yang tidak seimbang, dapat menggunakan teknik Oversampling (SMOTE) yang bertujuan untuk Meng-Balanced kan data tersebut*"
   ]
  },
  {
   "cell_type": "code",
   "execution_count": 277,
   "id": "6b07356a",
   "metadata": {},
   "outputs": [],
   "source": [
    "X = dataset_new1.drop([\"Result_of_Treatment\"], axis=1)\n",
    "y = dataset_new1[\"Result_of_Treatment\"]\n",
    "\n",
    "X_train, X_test, y_train, y_test = train_test_split(X, y, test_size=0.1, random_state=20)"
   ]
  },
  {
   "cell_type": "code",
   "execution_count": 278,
   "id": "6af20326",
   "metadata": {},
   "outputs": [
    {
     "data": {
      "text/plain": [
       "0    63\n",
       "1    63\n",
       "Name: Result_of_Treatment, dtype: int64"
      ]
     },
     "execution_count": 278,
     "metadata": {},
     "output_type": "execute_result"
    }
   ],
   "source": [
    "sm = SMOTE(random_state = 42)\n",
    "X_train_new, y_train_new = sm.fit_resample(X_train, y_train)\n",
    "\n",
    "X_train_new['Result_of_Treatment'] = y_train_new\n",
    "\n",
    "dataset_new1 = X_train_new\n",
    "dataset_new1['Result_of_Treatment'].value_counts()"
   ]
  },
  {
   "cell_type": "markdown",
   "id": "74d67785",
   "metadata": {},
   "source": [
    "# Normalisasi"
   ]
  },
  {
   "cell_type": "code",
   "execution_count": 279,
   "id": "fe8b5da9",
   "metadata": {},
   "outputs": [
    {
     "name": "stdout",
     "output_type": "stream",
     "text": [
      "[[0.         0.29268293 0.97727273 ... 0.25268184 0.         0.        ]\n",
      " [1.         0.43902439 0.63636364 ... 0.11111111 0.         1.        ]\n",
      " [1.         0.17073171 0.65909091 ... 0.44444444 0.         1.        ]\n",
      " ...\n",
      " [1.         0.36585366 0.960026   ... 0.27777778 0.70685734 0.        ]\n",
      " [0.         0.31707317 0.73091561 ... 0.27453782 0.13549642 0.        ]\n",
      " [0.         0.85365854 0.46893545 ... 0.11909157 0.         0.        ]]\n"
     ]
    }
   ],
   "source": [
    "scaler = MinMaxScaler()\n",
    "\n",
    "normalized_data = scaler.fit_transform(dataset_new1)\n",
    "\n",
    "print(normalized_data)"
   ]
  },
  {
   "cell_type": "markdown",
   "id": "70df0c2b",
   "metadata": {},
   "source": [
    "# Clustering"
   ]
  },
  {
   "cell_type": "code",
   "execution_count": 280,
   "id": "2327373e",
   "metadata": {},
   "outputs": [
    {
     "data": {
      "image/png": "[encoded data removed]",
      "text/plain": [
       "<Figure size 432x288 with 1 Axes>"
      ]
     },
     "metadata": {
      "needs_background": "light"
     },
     "output_type": "display_data"
    }
   ],
   "source": [
    "dendrogram(linkage(dataset_new1,method='complete'))\n",
    "plt.show()"
   ]
  },
  {
   "cell_type": "code",
   "execution_count": 281,
   "id": "ba502a45",
   "metadata": {},
   "outputs": [
    {
     "data": {
      "text/plain": [
       "1    103\n",
       "0     11\n",
       "2      8\n",
       "4      3\n",
       "3      1\n",
       "Name: Labels, dtype: int64"
      ]
     },
     "execution_count": 281,
     "metadata": {},
     "output_type": "execute_result"
    }
   ],
   "source": [
    "ac = AgglomerativeClustering(n_clusters = 5, affinity = 'euclidean', linkage = 'complete')\n",
    "labels = ac.fit_predict(dataset_new1)\n",
    "dataset_new1 = pd.DataFrame(dataset_new1)\n",
    "dataset_new1['Labels'] = labels\n",
    "dataset_new1['Labels'].value_counts()"
   ]
  },
  {
   "cell_type": "markdown",
   "id": "29804e4c",
   "metadata": {},
   "source": [
    "***Dapat dilihat hasil diatas bahwa, didapatkan 5 kelompok dengan masing-masing anggota :***\n",
    "1. Kelompok 1 : 103\n",
    "2. Kelompok 0 : 11\n",
    "3. Kelompok 8 : 8\n",
    "4. Kelompok 3 : 3\n",
    "5. Kelompok 3 : 1"
   ]
  },
  {
   "cell_type": "code",
   "execution_count": null,
   "id": "062e1452",
   "metadata": {},
   "outputs": [],
   "source": []
  }
 ],
 "metadata": {
  "kernelspec": {
   "display_name": "Python 3 (ipykernel)",
   "language": "python",
   "name": "python3"
  },
  "language_info": {
   "codemirror_mode": {
    "name": "ipython",
    "version": 3
   },
   "file_extension": ".py",
   "mimetype": "text/x-python",
   "name": "python",
   "nbconvert_exporter": "python",
   "pygments_lexer": "ipython3",
   "version": "3.9.7"
  }
 },
 "nbformat": 4,
 "nbformat_minor": 5
}
